{
 "cells": [
  {
   "cell_type": "markdown",
   "id": "identical-elephant",
   "metadata": {},
   "source": [
    "# Import"
   ]
  },
  {
   "cell_type": "code",
   "execution_count": 1,
   "id": "parliamentary-parent",
   "metadata": {},
   "outputs": [],
   "source": [
    "import pandas as pd"
   ]
  },
  {
   "cell_type": "code",
   "execution_count": 2,
   "id": "published-mortality",
   "metadata": {},
   "outputs": [],
   "source": [
    "content_df = pd.read_excel('/.../minerva_3tables.xlsx', sheet_name='Sheet2')\n",
    "user_df = pd.read_excel('/.../minerva_3tables.xlsx', sheet_name='Sheet3')\n",
    "login_df = pd.read_excel('/.../minerva_3tables.xlsx', sheet_name='Sheet4')"
   ]
  },
  {
   "cell_type": "markdown",
   "id": "accredited-stack",
   "metadata": {},
   "source": [
    "# 3 Tables"
   ]
  },
  {
   "cell_type": "markdown",
   "id": "weighted-formation",
   "metadata": {},
   "source": [
    "## 1. content_df\n",
    "### There are two ways to do this table. First, with the information on the problems. Second, without them."
   ]
  },
  {
   "cell_type": "markdown",
   "id": "chemical-experience",
   "metadata": {},
   "source": [
    "#### The first way."
   ]
  },
  {
   "cell_type": "code",
   "execution_count": 3,
   "id": "linear-faith",
   "metadata": {
    "scrolled": true
   },
   "outputs": [
    {
     "data": {
      "text/html": [
       "<div>\n",
       "<style scoped>\n",
       "    .dataframe tbody tr th:only-of-type {\n",
       "        vertical-align: middle;\n",
       "    }\n",
       "\n",
       "    .dataframe tbody tr th {\n",
       "        vertical-align: top;\n",
       "    }\n",
       "\n",
       "    .dataframe thead th {\n",
       "        text-align: right;\n",
       "    }\n",
       "</style>\n",
       "<table border=\"1\" class=\"dataframe\">\n",
       "  <thead>\n",
       "    <tr style=\"text-align: right;\">\n",
       "      <th></th>\n",
       "      <th>content_id</th>\n",
       "      <th>presentation_name</th>\n",
       "      <th>problem_content</th>\n",
       "      <th>problem_answer</th>\n",
       "      <th>tag1_weight</th>\n",
       "      <th>tag2_weight</th>\n",
       "      <th>tag3_weight</th>\n",
       "    </tr>\n",
       "  </thead>\n",
       "  <tbody>\n",
       "    <tr>\n",
       "      <th>0</th>\n",
       "      <td>1</td>\n",
       "      <td>Divide</td>\n",
       "      <td>64/8</td>\n",
       "      <td>8</td>\n",
       "      <td>200</td>\n",
       "      <td>200</td>\n",
       "      <td>250</td>\n",
       "    </tr>\n",
       "    <tr>\n",
       "      <th>1</th>\n",
       "      <td>2</td>\n",
       "      <td>Divide</td>\n",
       "      <td>90/9</td>\n",
       "      <td>10</td>\n",
       "      <td>0</td>\n",
       "      <td>250</td>\n",
       "      <td>250</td>\n",
       "    </tr>\n",
       "    <tr>\n",
       "      <th>2</th>\n",
       "      <td>3</td>\n",
       "      <td>Divide</td>\n",
       "      <td>126/3</td>\n",
       "      <td>42</td>\n",
       "      <td>250</td>\n",
       "      <td>0</td>\n",
       "      <td>300</td>\n",
       "    </tr>\n",
       "  </tbody>\n",
       "</table>\n",
       "</div>"
      ],
      "text/plain": [
       "   content_id presentation_name problem_content  problem_answer  tag1_weight  \\\n",
       "0           1            Divide            64/8               8          200   \n",
       "1           2            Divide            90/9              10            0   \n",
       "2           3            Divide           126/3              42          250   \n",
       "\n",
       "   tag2_weight  tag3_weight  \n",
       "0          200          250  \n",
       "1          250          250  \n",
       "2            0          300  "
      ]
     },
     "execution_count": 3,
     "metadata": {},
     "output_type": "execute_result"
    }
   ],
   "source": [
    "content_df.head()"
   ]
  },
  {
   "cell_type": "code",
   "execution_count": 4,
   "id": "superior-shade",
   "metadata": {},
   "outputs": [],
   "source": [
    "content_df2 = pd.read_excel('/Users/bentaylor/Documents/Minerva Learning/minerva_3tables.xlsx', sheet_name='Sheet2')"
   ]
  },
  {
   "cell_type": "code",
   "execution_count": 5,
   "id": "complex-nepal",
   "metadata": {},
   "outputs": [
    {
     "data": {
      "text/html": [
       "<div>\n",
       "<style scoped>\n",
       "    .dataframe tbody tr th:only-of-type {\n",
       "        vertical-align: middle;\n",
       "    }\n",
       "\n",
       "    .dataframe tbody tr th {\n",
       "        vertical-align: top;\n",
       "    }\n",
       "\n",
       "    .dataframe thead th {\n",
       "        text-align: right;\n",
       "    }\n",
       "</style>\n",
       "<table border=\"1\" class=\"dataframe\">\n",
       "  <thead>\n",
       "    <tr style=\"text-align: right;\">\n",
       "      <th></th>\n",
       "      <th>content_id</th>\n",
       "      <th>presentation_name</th>\n",
       "      <th>problem_content</th>\n",
       "      <th>problem_answer</th>\n",
       "      <th>tag1_weight</th>\n",
       "      <th>tag2_weight</th>\n",
       "      <th>tag3_weight</th>\n",
       "    </tr>\n",
       "  </thead>\n",
       "  <tbody>\n",
       "    <tr>\n",
       "      <th>0</th>\n",
       "      <td>1</td>\n",
       "      <td>Divide</td>\n",
       "      <td>64/8</td>\n",
       "      <td>8</td>\n",
       "      <td>200</td>\n",
       "      <td>200</td>\n",
       "      <td>250</td>\n",
       "    </tr>\n",
       "    <tr>\n",
       "      <th>1</th>\n",
       "      <td>2</td>\n",
       "      <td>Divide</td>\n",
       "      <td>90/9</td>\n",
       "      <td>10</td>\n",
       "      <td>0</td>\n",
       "      <td>250</td>\n",
       "      <td>250</td>\n",
       "    </tr>\n",
       "    <tr>\n",
       "      <th>2</th>\n",
       "      <td>3</td>\n",
       "      <td>Divide</td>\n",
       "      <td>126/3</td>\n",
       "      <td>42</td>\n",
       "      <td>250</td>\n",
       "      <td>0</td>\n",
       "      <td>300</td>\n",
       "    </tr>\n",
       "  </tbody>\n",
       "</table>\n",
       "</div>"
      ],
      "text/plain": [
       "   content_id presentation_name problem_content  problem_answer  tag1_weight  \\\n",
       "0           1            Divide            64/8               8          200   \n",
       "1           2            Divide            90/9              10            0   \n",
       "2           3            Divide           126/3              42          250   \n",
       "\n",
       "   tag2_weight  tag3_weight  \n",
       "0          200          250  \n",
       "1          250          250  \n",
       "2            0          300  "
      ]
     },
     "execution_count": 5,
     "metadata": {},
     "output_type": "execute_result"
    }
   ],
   "source": [
    "content_df2.head()"
   ]
  },
  {
   "cell_type": "code",
   "execution_count": 6,
   "id": "recorded-reset",
   "metadata": {},
   "outputs": [],
   "source": [
    "content_df2.drop(columns=['presentation_name','problem_content','problem_answer'],inplace=True)"
   ]
  },
  {
   "cell_type": "markdown",
   "id": "differential-allocation",
   "metadata": {},
   "source": [
    "#### The second way."
   ]
  },
  {
   "cell_type": "code",
   "execution_count": 7,
   "id": "passive-sustainability",
   "metadata": {},
   "outputs": [
    {
     "data": {
      "text/html": [
       "<div>\n",
       "<style scoped>\n",
       "    .dataframe tbody tr th:only-of-type {\n",
       "        vertical-align: middle;\n",
       "    }\n",
       "\n",
       "    .dataframe tbody tr th {\n",
       "        vertical-align: top;\n",
       "    }\n",
       "\n",
       "    .dataframe thead th {\n",
       "        text-align: right;\n",
       "    }\n",
       "</style>\n",
       "<table border=\"1\" class=\"dataframe\">\n",
       "  <thead>\n",
       "    <tr style=\"text-align: right;\">\n",
       "      <th></th>\n",
       "      <th>content_id</th>\n",
       "      <th>tag1_weight</th>\n",
       "      <th>tag2_weight</th>\n",
       "      <th>tag3_weight</th>\n",
       "    </tr>\n",
       "  </thead>\n",
       "  <tbody>\n",
       "    <tr>\n",
       "      <th>0</th>\n",
       "      <td>1</td>\n",
       "      <td>200</td>\n",
       "      <td>200</td>\n",
       "      <td>250</td>\n",
       "    </tr>\n",
       "    <tr>\n",
       "      <th>1</th>\n",
       "      <td>2</td>\n",
       "      <td>0</td>\n",
       "      <td>250</td>\n",
       "      <td>250</td>\n",
       "    </tr>\n",
       "    <tr>\n",
       "      <th>2</th>\n",
       "      <td>3</td>\n",
       "      <td>250</td>\n",
       "      <td>0</td>\n",
       "      <td>300</td>\n",
       "    </tr>\n",
       "  </tbody>\n",
       "</table>\n",
       "</div>"
      ],
      "text/plain": [
       "   content_id  tag1_weight  tag2_weight  tag3_weight\n",
       "0           1          200          200          250\n",
       "1           2            0          250          250\n",
       "2           3          250            0          300"
      ]
     },
     "execution_count": 7,
     "metadata": {},
     "output_type": "execute_result"
    }
   ],
   "source": [
    "content_df2.head()"
   ]
  },
  {
   "cell_type": "markdown",
   "id": "distant-research",
   "metadata": {},
   "source": [
    "## 2. user_df\n",
    "### - Recorded information about each user. The \"elo_score\" and each \"tagx_score\" column would be aggregate functions based on David's forthcoming formula.\n",
    "### - I'm not sure where to record each instance of getting an answer right or wrong. Does it make sense to record it on this table?"
   ]
  },
  {
   "cell_type": "code",
   "execution_count": 8,
   "id": "unauthorized-dakota",
   "metadata": {},
   "outputs": [],
   "source": [
    "tag1_score = [200, 235, 280]\n",
    "tag2_score = [300, 245, 260]\n",
    "tag3_score = [200, 250, 230]\n",
    "\n",
    "user_df.insert(7, 'tag1_score', tag1_score)\n",
    "user_df.insert(8, 'tag2_score', tag2_score)\n",
    "user_df.insert(9, 'tag3_score', tag3_score)"
   ]
  },
  {
   "cell_type": "code",
   "execution_count": 9,
   "id": "after-nature",
   "metadata": {},
   "outputs": [
    {
     "data": {
      "text/html": [
       "<div>\n",
       "<style scoped>\n",
       "    .dataframe tbody tr th:only-of-type {\n",
       "        vertical-align: middle;\n",
       "    }\n",
       "\n",
       "    .dataframe tbody tr th {\n",
       "        vertical-align: top;\n",
       "    }\n",
       "\n",
       "    .dataframe thead th {\n",
       "        text-align: right;\n",
       "    }\n",
       "</style>\n",
       "<table border=\"1\" class=\"dataframe\">\n",
       "  <thead>\n",
       "    <tr style=\"text-align: right;\">\n",
       "      <th></th>\n",
       "      <th>user_id</th>\n",
       "      <th>grade</th>\n",
       "      <th>sex</th>\n",
       "      <th>times_loggedin</th>\n",
       "      <th>first_login_date</th>\n",
       "      <th>avg_login_rate_weekly</th>\n",
       "      <th>elo_score</th>\n",
       "      <th>tag1_score</th>\n",
       "      <th>tag2_score</th>\n",
       "      <th>tag3_score</th>\n",
       "    </tr>\n",
       "  </thead>\n",
       "  <tbody>\n",
       "    <tr>\n",
       "      <th>0</th>\n",
       "      <td>1</td>\n",
       "      <td>4</td>\n",
       "      <td>male</td>\n",
       "      <td>13</td>\n",
       "      <td>2021-02-02 11:00:00</td>\n",
       "      <td>5.0</td>\n",
       "      <td>1150</td>\n",
       "      <td>200</td>\n",
       "      <td>300</td>\n",
       "      <td>200</td>\n",
       "    </tr>\n",
       "    <tr>\n",
       "      <th>1</th>\n",
       "      <td>2</td>\n",
       "      <td>4</td>\n",
       "      <td>female</td>\n",
       "      <td>5</td>\n",
       "      <td>2021-02-05 10:30:00</td>\n",
       "      <td>2.5</td>\n",
       "      <td>3000</td>\n",
       "      <td>235</td>\n",
       "      <td>245</td>\n",
       "      <td>250</td>\n",
       "    </tr>\n",
       "    <tr>\n",
       "      <th>2</th>\n",
       "      <td>3</td>\n",
       "      <td>3</td>\n",
       "      <td>female</td>\n",
       "      <td>38</td>\n",
       "      <td>2021-01-15 10:30:00</td>\n",
       "      <td>7.0</td>\n",
       "      <td>1275</td>\n",
       "      <td>280</td>\n",
       "      <td>260</td>\n",
       "      <td>230</td>\n",
       "    </tr>\n",
       "  </tbody>\n",
       "</table>\n",
       "</div>"
      ],
      "text/plain": [
       "   user_id  grade     sex  times_loggedin    first_login_date  \\\n",
       "0        1      4    male              13 2021-02-02 11:00:00   \n",
       "1        2      4  female               5 2021-02-05 10:30:00   \n",
       "2        3      3  female              38 2021-01-15 10:30:00   \n",
       "\n",
       "   avg_login_rate_weekly  elo_score  tag1_score  tag2_score  tag3_score  \n",
       "0                    5.0       1150         200         300         200  \n",
       "1                    2.5       3000         235         245         250  \n",
       "2                    7.0       1275         280         260         230  "
      ]
     },
     "execution_count": 9,
     "metadata": {},
     "output_type": "execute_result"
    }
   ],
   "source": [
    "user_df.head()"
   ]
  },
  {
   "cell_type": "markdown",
   "id": "continued-suspension",
   "metadata": {},
   "source": [
    "## 3. login_df\n",
    "### I'm not sure what all to put in this table, or if we'll want it for the MVP."
   ]
  },
  {
   "cell_type": "code",
   "execution_count": 10,
   "id": "defined-appearance",
   "metadata": {
    "scrolled": false
   },
   "outputs": [
    {
     "data": {
      "text/html": [
       "<div>\n",
       "<style scoped>\n",
       "    .dataframe tbody tr th:only-of-type {\n",
       "        vertical-align: middle;\n",
       "    }\n",
       "\n",
       "    .dataframe tbody tr th {\n",
       "        vertical-align: top;\n",
       "    }\n",
       "\n",
       "    .dataframe thead th {\n",
       "        text-align: right;\n",
       "    }\n",
       "</style>\n",
       "<table border=\"1\" class=\"dataframe\">\n",
       "  <thead>\n",
       "    <tr style=\"text-align: right;\">\n",
       "      <th></th>\n",
       "      <th>login_time</th>\n",
       "      <th>logout_time</th>\n",
       "      <th>user_id</th>\n",
       "      <th>content_id</th>\n",
       "      <th>problem_number_for_session</th>\n",
       "      <th>is_correct</th>\n",
       "      <th>elo_score</th>\n",
       "    </tr>\n",
       "  </thead>\n",
       "  <tbody>\n",
       "    <tr>\n",
       "      <th>0</th>\n",
       "      <td>2021-01-12 11:30:00</td>\n",
       "      <td>2021-01-12 12:00:00</td>\n",
       "      <td>4</td>\n",
       "      <td>55</td>\n",
       "      <td>12</td>\n",
       "      <td>True</td>\n",
       "      <td>2000</td>\n",
       "    </tr>\n",
       "    <tr>\n",
       "      <th>1</th>\n",
       "      <td>2020-12-29 10:00:00</td>\n",
       "      <td>2020-12-29 10:15:00</td>\n",
       "      <td>8</td>\n",
       "      <td>87</td>\n",
       "      <td>14</td>\n",
       "      <td>False</td>\n",
       "      <td>3340</td>\n",
       "    </tr>\n",
       "    <tr>\n",
       "      <th>2</th>\n",
       "      <td>2020-12-28 08:30:00</td>\n",
       "      <td>2020-12-28 08:45:00</td>\n",
       "      <td>22</td>\n",
       "      <td>3</td>\n",
       "      <td>2</td>\n",
       "      <td>True</td>\n",
       "      <td>2120</td>\n",
       "    </tr>\n",
       "  </tbody>\n",
       "</table>\n",
       "</div>"
      ],
      "text/plain": [
       "           login_time         logout_time  user_id  content_id  \\\n",
       "0 2021-01-12 11:30:00 2021-01-12 12:00:00        4          55   \n",
       "1 2020-12-29 10:00:00 2020-12-29 10:15:00        8          87   \n",
       "2 2020-12-28 08:30:00 2020-12-28 08:45:00       22           3   \n",
       "\n",
       "   problem_number_for_session  is_correct  elo_score  \n",
       "0                          12        True       2000  \n",
       "1                          14       False       3340  \n",
       "2                           2        True       2120  "
      ]
     },
     "execution_count": 10,
     "metadata": {},
     "output_type": "execute_result"
    }
   ],
   "source": [
    "login_df.head()"
   ]
  }
 ],
 "metadata": {
  "kernelspec": {
   "display_name": "Python 3",
   "language": "python",
   "name": "python3"
  },
  "language_info": {
   "codemirror_mode": {
    "name": "ipython",
    "version": 3
   },
   "file_extension": ".py",
   "mimetype": "text/x-python",
   "name": "python",
   "nbconvert_exporter": "python",
   "pygments_lexer": "ipython3",
   "version": "3.7.7"
  }
 },
 "nbformat": 4,
 "nbformat_minor": 5
}
